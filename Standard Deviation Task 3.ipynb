{
 "cells": [
  {
   "cell_type": "markdown",
   "metadata": {},
   "source": [
    "## Standard Deviation Task 3 Catherine Quinlan"
   ]
  },
  {
   "cell_type": "markdown",
   "metadata": {},
   "source": [
    "Required : "
   ]
  },
  {
   "cell_type": "markdown",
   "metadata": {},
   "source": [
    "To  research and compare excel functions STDDEV.P and STDDEV.S. "
   ]
  },
  {
   "cell_type": "markdown",
   "metadata": {},
   "source": [
    "Use numpy formula given to perform a simulation  to demostrate STDDEV.S result is a better estimate for standard deviation of a population when performed on a sample."
   ]
  },
  {
   "cell_type": "markdown",
   "metadata": {},
   "source": [
    "### Comparison between STDDEV.P and STDDEV.S"
   ]
  },
  {
   "cell_type": "markdown",
   "metadata": {},
   "source": [
    "Firstly Standard Deviation of a set of numbers is a measure of their variance from their mean."
   ]
  },
  {
   "cell_type": "markdown",
   "metadata": {},
   "source": [
    "STDDEV.P is used to find the standard deviation of a whole population where the group of numbers being evaluated is complete, and the sum of the standard deviations is divided by n,the actual number of observations.This is often referedto as the biased approach.\n",
    "while STDDEV.S is used to to find the standard deviation of a sample only, or a partial sampling of the population.This is the standard deviation of the sample or the sample standard deviation . The sum of the squared deviations is then divided by  n-1 (Bessel's correction), where n is the number of observations. Tis n-1 is an attempt to reduce bias due to this finite sample size, and often refered to as the unbiased estimate \n",
    "\n",
    "For much larger sample sizes both .p and .s should give the same value as the difference btween 1/n and 1/n-1 becomes smaller."
   ]
  },
  {
   "cell_type": "markdown",
   "metadata": {},
   "source": [
    "The STDDEV.P since it uses all the data gives amore accurate result, however, as sample size grows closer to the size of the population the values  eventually give close to the same result"
   ]
  },
  {
   "cell_type": "markdown",
   "metadata": {},
   "source": [
    "The reason that STDDEV.S is a better estimate for standard deviation of a population when performed on a sample is because the bias from that sample has been removed, which makes it an unbiased representation of the  standard deviation for the entire popluation."
   ]
  },
  {
   "cell_type": "code",
   "execution_count": null,
   "metadata": {},
   "outputs": [],
   "source": []
  },
  {
   "cell_type": "code",
   "execution_count": null,
   "metadata": {},
   "outputs": [],
   "source": []
  },
  {
   "cell_type": "code",
   "execution_count": null,
   "metadata": {},
   "outputs": [],
   "source": []
  },
  {
   "cell_type": "code",
   "execution_count": null,
   "metadata": {},
   "outputs": [],
   "source": []
  },
  {
   "cell_type": "code",
   "execution_count": null,
   "metadata": {},
   "outputs": [],
   "source": []
  },
  {
   "cell_type": "code",
   "execution_count": null,
   "metadata": {},
   "outputs": [],
   "source": []
  },
  {
   "cell_type": "code",
   "execution_count": null,
   "metadata": {},
   "outputs": [],
   "source": []
  },
  {
   "cell_type": "code",
   "execution_count": null,
   "metadata": {},
   "outputs": [],
   "source": []
  },
  {
   "cell_type": "code",
   "execution_count": null,
   "metadata": {},
   "outputs": [],
   "source": [
    "[1]https://en.wikipedia.org/wiki/Standard_deviation"
   ]
  },
  {
   "cell_type": "code",
   "execution_count": null,
   "metadata": {},
   "outputs": [],
   "source": [
    "[2]https://exceljet.net/excel-functions/excel-stdev.s-function"
   ]
  },
  {
   "cell_type": "code",
   "execution_count": null,
   "metadata": {},
   "outputs": [],
   "source": [
    "[3]https://en.wikipedia.org/wiki/Bessel%27s_correction"
   ]
  }
 ],
 "metadata": {
  "kernelspec": {
   "display_name": "Python 3",
   "language": "python",
   "name": "python3"
  },
  "language_info": {
   "codemirror_mode": {
    "name": "ipython",
    "version": 3
   },
   "file_extension": ".py",
   "mimetype": "text/x-python",
   "name": "python",
   "nbconvert_exporter": "python",
   "pygments_lexer": "ipython3",
   "version": "3.8.3"
  }
 },
 "nbformat": 4,
 "nbformat_minor": 4
}
