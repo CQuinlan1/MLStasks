{
 "cells": [
  {
   "cell_type": "markdown",
   "metadata": {},
   "source": [
    "## Standard Deviation Task 3 Catherine Quinlan"
   ]
  },
  {
   "cell_type": "markdown",
   "metadata": {},
   "source": [
    "Required : "
   ]
  },
  {
   "cell_type": "markdown",
   "metadata": {},
   "source": [
    "To  research and compare excel functions STDDEV.P and STDDEV.S. "
   ]
  },
  {
   "cell_type": "markdown",
   "metadata": {},
   "source": [
    "Use numpy formula given to perform a simulation  to demostrate STDDEV.S result is a better estimate for standard deviation of a population when performed on a sample."
   ]
  },
  {
   "cell_type": "markdown",
   "metadata": {},
   "source": [
    "### Comparison between STDDEV.P and STDDEV.S"
   ]
  },
  {
   "cell_type": "markdown",
   "metadata": {},
   "source": [
    "Firstly Standard Deviation of a set of numbers is a measure of their variance from their mean."
   ]
  },
  {
   "cell_type": "markdown",
   "metadata": {},
   "source": [
    "STDDEV.P is used to find the standard deviation of a whole population where the group of numbers being evaluated is complete, and the sum of the standard deviations is divided by n,the actual number of observations.This is often refered to as the biased approach.\n",
    "While STDDEV.S is used to to find the standard deviation of a sample only, or a partial sampling of the population.This is the standard deviation of the sample or the sample standard deviation . The sum of the squared deviations is then divided by  n-1 (Bessel's correction), where n is the number of observations in the sample. This n-1 is an attempt to reduce bias due to this finite sample size, and often referred to as the unbiased estimate.\n",
    "\n",
    " STDDEV.P, since it uses all the data,  gives a more accurate result, however as much larger sample sizes both  are used  STDDEV.S gets closer to the  STDDEV.P . We can ses that  the difference btween 1/n and 1/n-1 becomes smaller and smaller as the sample size gets bigger and bigger as I will show below."
   ]
  },
  {
   "cell_type": "markdown",
   "metadata": {},
   "source": []
  },
  {
   "cell_type": "markdown",
   "metadata": {},
   "source": [
    "The reason that STDDEV.S is a better estimate for standard deviation of a population when performed on a sample is because the bias from that sample has been removed, which makes it an unbiased representation of the  standard deviation for the entire popluation."
   ]
  },
  {
   "cell_type": "markdown",
   "metadata": {},
   "source": [
    "## Background on data simulation:"
   ]
  },
  {
   "cell_type": "markdown",
   "metadata": {},
   "source": [
    "I decided to create a random selection of ages that attend music concerts. Taking the values from Eventbrite  where the average age of an attendee is 32 years old,  and the ages are between 18 and 49 years old , I created an array of random values   to simulate the range of possible ages where we can imagine 10,000 fans attend a concert.  "
   ]
  },
  {
   "cell_type": "code",
   "execution_count": 5,
   "metadata": {},
   "outputs": [
    {
     "name": "stdout",
     "output_type": "stream",
     "text": [
      "The standard deviation of a population size of 10,000 with a mean of age  32.1254 using the STDDEV.P formula gives \n",
      "9.474949859497938\n"
     ]
    }
   ],
   "source": [
    "import numpy as np\n",
    "np.random.randint(low=18, high=49, size=1)\n",
    "experiment =np.random.randint(16,49, size=10000)\n",
    "#print(experiment)\n",
    "np.mean(experiment)\n",
    "print(\"The standard deviation of a population size of 10,000 with a mean of age \", np.mean(experiment), \"using the STDDEV.P formula gives \")\n",
    "stdp =np.sqrt(np.sum((experiment-np.mean(experiment))**2)/len(experiment))\n",
    "print(stdp)"
   ]
  },
  {
   "cell_type": "markdown",
   "metadata": {},
   "source": [
    "Then I decided to look at samples of 1000 and 100 and using the same mean, and look at their Standard deviation using the STDDEV.S formula, which takes into account Bessel's correction"
   ]
  },
  {
   "cell_type": "code",
   "execution_count": 6,
   "metadata": {},
   "outputs": [
    {
     "name": "stdout",
     "output_type": "stream",
     "text": [
      "The standard deviation of a sample of 100 with a sample mean of age  32.63 using the STDDEV.S formula gives \n",
      "8.860458292887564\n",
      "The standard deviation of a sample of 1000  with a sample mean age of  31.669 using the STDDEV.S formula gives \n",
      "9.345359273992628\n"
     ]
    }
   ],
   "source": [
    "\n",
    "experiment1 =np.random.randint(16,49, size=1000)\n",
    "\n",
    "\n",
    "print(\"The standard deviation of a sample of 1000  with a sample mean age of \", np.mean(experiment1), \"using the STDDEV.S formula gives \")\n",
    "stds2 =np.sqrt(np.sum((experiment1-np.mean(experiment))**2)/len(experiment1-1))\n",
    "print(stds2)"
   ]
  },
  {
   "cell_type": "markdown",
   "metadata": {},
   "source": [
    "We can note that as mentioned above the larger the sample taken the closer the standard deviation becomes to the population standard deviation \n"
   ]
  },
  {
   "cell_type": "markdown",
   "metadata": {},
   "source": [
    "We can compare the standard deviation of the smaller sample of 100 and use both the population standard deviation  and sample standard deviation to see if they are very similar."
   ]
  },
  {
   "cell_type": "code",
   "execution_count": 11,
   "metadata": {},
   "outputs": [
    {
     "name": "stdout",
     "output_type": "stream",
     "text": [
      "The standard deviation of a sample of 100 with a sample mean of age  32.46 using the STDDEV.S formula gives \n",
      "10.074738565342527\n",
      "The standard deviation of a sample of 100 using the STDDEV.P formula gives  10.074738565342527\n"
     ]
    }
   ],
   "source": [
    "np.random.randint(low=18, high=49, size=1)\n",
    "experiments =np.random.randint(16,49, size=100)\n",
    "#print(experiment)\n",
    "\n",
    "print(\"The standard deviation of a sample of 100 with a sample mean of age \",np.mean(experiments), \"using the STDDEV.S formula gives \" )\n",
    "stds1 =np.sqrt(np.sum((experiments-np.mean(experiment))**2)/len(experiments-1))\n",
    "print(stds1)\n",
    "\n",
    "\n",
    "#print(np.mean(experiments))\n",
    "stdp2 =np.sqrt(np.sum((experiments-np.mean(experiment))**2)/len(experiments))\n",
    "print(\"The standard deviation of a sample of 100 using the STDDEV.P formula gives \",stdp2)\n"
   ]
  },
  {
   "cell_type": "markdown",
   "metadata": {},
   "source": [
    "We can note that here as our sample size is quite large(100) there is no different between using either the sample or population function. We might look at a much smaller sample size for example of 10 "
   ]
  },
  {
   "cell_type": "code",
   "execution_count": 8,
   "metadata": {},
   "outputs": [
    {
     "name": "stdout",
     "output_type": "stream",
     "text": [
      "The standard deviation of a sample of 10 using the STDDEV.s formula gives  7.027722880769338\n",
      "The standard deviation of a sample of 10 using the STDDEV.P formula gives  6.6670833203133135\n"
     ]
    }
   ],
   "source": [
    "\n",
    "\n",
    "\n",
    "\n",
    "\n",
    "np.random.randint(low=18, high=49, size=1)\n",
    "experiment2 =np.random.randint(16,49, size=10)\n",
    "#print(experiment)\n",
    "#print(np.mean(experiments))\n",
    "stdp3 =np.sqrt(np.sum((experiment2-np.mean(experiment2))**2)/(len(experiment2)-1))\n",
    "print(\"The standard deviation of a sample of 10 using the STDDEV.s formula gives \",stdp3)\n",
    "\n",
    "stdp4 =np.sqrt(np.sum((experiment2-np.mean(experiment2))**2)/len(experiment2))\n",
    "print(\"The standard deviation of a sample of 10 using the STDDEV.P formula gives \",stdp4)"
   ]
  },
  {
   "cell_type": "markdown",
   "metadata": {},
   "source": [
    "Here as our sample size is quite small we can see a difference in applying the 2 standard deviation formulas"
   ]
  },
  {
   "cell_type": "markdown",
   "metadata": {},
   "source": [
    "We can see here with a sample of 10 that the STDDEV.S is slightly greater than the STDDEV.P .The STDDEV.S  value is higher due to the N-1 of the divisor. "
   ]
  },
  {
   "cell_type": "markdown",
   "metadata": {},
   "source": [
    "Using the formula STDDEV.S  is a better estimate of the Standard deviation of the population based on its sample, that applying the STDDEV.p to the sample, and it is a closer value to the real standard deviation of the population than the value  using the STDDEV.P when the sample size is quite small. "
   ]
  },
  {
   "cell_type": "markdown",
   "metadata": {},
   "source": [
    "### Conclusion:\n"
   ]
  },
  {
   "cell_type": "markdown",
   "metadata": {},
   "source": [
    "The most accurate standard deviation of a population is based on all its values. That is the STDDEV.P\n"
   ]
  },
  {
   "cell_type": "markdown",
   "metadata": {},
   "source": [
    "However, when faced with a sample of the data of the population, we should use the STDDEV.S formula on  our sample data. This gives us a closer estimate of the standard deviation of the population, compared to the STDDEV.P formula, although only based on a sample, and referred to as the sample standard deviation. "
   ]
  },
  {
   "cell_type": "code",
   "execution_count": null,
   "metadata": {},
   "outputs": [],
   "source": []
  },
  {
   "cell_type": "markdown",
   "metadata": {},
   "source": [
    "[1]https://en.wikipedia.org/wiki/Standard_deviation"
   ]
  },
  {
   "cell_type": "markdown",
   "metadata": {},
   "source": [
    "[2]https://exceljet.net/excel-functions/excel-stdev.s-function"
   ]
  },
  {
   "cell_type": "markdown",
   "metadata": {},
   "source": [
    "[3]https://en.wikipedia.org/wiki/Bessel%27s_correction"
   ]
  },
  {
   "cell_type": "markdown",
   "metadata": {},
   "source": [
    "[4]https://www.eventbrite.com/blog/music-festival-demographics-ds00/"
   ]
  },
  {
   "cell_type": "code",
   "execution_count": null,
   "metadata": {},
   "outputs": [],
   "source": []
  }
 ],
 "metadata": {
  "kernelspec": {
   "display_name": "Python 3",
   "language": "python",
   "name": "python3"
  },
  "language_info": {
   "codemirror_mode": {
    "name": "ipython",
    "version": 3
   },
   "file_extension": ".py",
   "mimetype": "text/x-python",
   "name": "python",
   "nbconvert_exporter": "python",
   "pygments_lexer": "ipython3",
   "version": "3.8.3"
  }
 },
 "nbformat": 4,
 "nbformat_minor": 4
}
