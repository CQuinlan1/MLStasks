{
 "cells": [
  {
   "cell_type": "markdown",
   "metadata": {},
   "source": [
    "## Chi-squared_test by Catherine Ann Celeste Quinlan"
   ]
  },
  {
   "cell_type": "markdown",
   "metadata": {},
   "source": [
    "## Based on the wikipedia example of workers occupations and areas  A,B,C and D"
   ]
  },
  {
   "cell_type": "markdown",
   "metadata": {},
   "source": [
    "**Pearsons chi squared test is used here  for Independence for categorical variables .**"
   ]
  },
  {
   "cell_type": "code",
   "execution_count": 8,
   "metadata": {},
   "outputs": [
    {
     "name": "stdout",
     "output_type": "stream",
     "text": [
      "        Workers   A   B    C   D\n",
      "0  White Collar  90  60  104  95\n",
      "1   Blue Collar  30  50   51  20\n",
      "2     No collar  30  40   45  35\n"
     ]
    }
   ],
   "source": [
    "import pandas as pd  # importing tools\n",
    "from scipy.stats import chi2\n",
    "from scipy.stats import chi2_contingency\n",
    "\n",
    "table = {'Workers': ['White Collar','Blue Collar','No collar'],   # creating titles for table\n",
    "         \n",
    "        'A': [90,30,30],\n",
    "         \n",
    "        'B': [60,50,40],\n",
    "        'C': [104,51,45],        # creating contents of table\n",
    "        'D': [95,20,35]\n",
    "        }\n",
    "\n",
    "\n",
    "df = pd.DataFrame(table, columns = ['Workers', 'A','B','C','D']) # Putting titles and columns together in a dataframe\n",
    "\n",
    "print (df)  # checking my dataframe \n"
   ]
  },
  {
   "cell_type": "code",
   "execution_count": 9,
   "metadata": {},
   "outputs": [],
   "source": [
    "table2 =    [[90,30, 30],         # now keeping the figures seperate  in another table so I can work with them \n",
    "\t\t\t[60,50,40],\n",
    "            [104,51,45],\n",
    "             [95,20,35]]\n",
    "\n",
    "\n"
   ]
  },
  {
   "cell_type": "code",
   "execution_count": null,
   "metadata": {},
   "outputs": [],
   "source": [
    "\n"
   ]
  },
  {
   "cell_type": "code",
   "execution_count": 10,
   "metadata": {},
   "outputs": [],
   "source": [
    "chi2value, p, dof, ex = (chi2_contingency(table2))# It returns a chi2value,a p value,and an estimate of degrees of freedom  before printing expected frequency  table"
   ]
  },
  {
   "cell_type": "code",
   "execution_count": 11,
   "metadata": {},
   "outputs": [
    {
     "name": "stdout",
     "output_type": "stream",
     "text": [
      "chi2value=24.6\n",
      "p=0.00\n",
      "dof=6.00\n",
      "[[ 80.53846154  34.84615385  34.61538462]\n",
      " [ 80.53846154  34.84615385  34.61538462]\n",
      " [107.38461538  46.46153846  46.15384615]\n",
      " [ 80.53846154  34.84615385  34.61538462]]\n"
     ]
    }
   ],
   "source": [
    "print('chi2value=%.1f' %chi2value) # printing the values calaculated from the function above\n",
    "print ('p=%.2f' %p)\n",
    "print('dof=%.2f' % dof)\n",
    "print(ex)"
   ]
  },
  {
   "cell_type": "markdown",
   "metadata": {},
   "source": [
    "As required we see a degree of freedom of 6 while our chi squared  value is  rounded to 24.6 .This value is got by not ing the difference right across the table and totalling it "
   ]
  },
  {
   "cell_type": "markdown",
   "metadata": {},
   "source": []
  },
  {
   "cell_type": "markdown",
   "metadata": {},
   "source": [
    "\n",
    "### Hypothesis testing :\n",
    "\n",
    "\n",
    "\n",
    "\n",
    "\n"
   ]
  },
  {
   "cell_type": "markdown",
   "metadata": {},
   "source": [
    "We use the degrees of freedom and a probability of 95%"
   ]
  },
  {
   "cell_type": "markdown",
   "metadata": {},
   "source": [
    "### Analysis:\n",
    "    "
   ]
  },
  {
   "cell_type": "markdown",
   "metadata": {},
   "source": [
    "If our chi squared value is too large we would reject the null hypothesis (of independence).\n"
   ]
  },
  {
   "cell_type": "markdown",
   "metadata": {},
   "source": [
    "So how do we find if it is too large ? "
   ]
  },
  {
   "cell_type": "markdown",
   "metadata": {},
   "source": [
    " For this we need to compare this value of 24.6 to what we would get with the degree of freedom of 6 on a Normal distribution for chi squared."
   ]
  },
  {
   "cell_type": "code",
   "execution_count": 14,
   "metadata": {},
   "outputs": [],
   "source": [
    "prob = .95\n",
    "limit = chi2.ppf(prob, dof)# Here we are looking for a value on a normal distribution of chi squared  \n"
   ]
  },
  {
   "cell_type": "code",
   "execution_count": 15,
   "metadata": {},
   "outputs": [
    {
     "name": "stdout",
     "output_type": "stream",
     "text": [
      "limit=12.59\n"
     ]
    }
   ],
   "source": [
    "print('limit=%.2f' % limit) # This value is printed"
   ]
  },
  {
   "cell_type": "markdown",
   "metadata": {},
   "source": [
    "If our value is greater we reject  the null hypothesis of independence, and accept there IS a relationship between districts A,B,c and D  and  workers of white blue and no collar above. "
   ]
  },
  {
   "cell_type": "markdown",
   "metadata": {},
   "source": [
    "As we can see our 24.6 is much greater than the 12.59 from a normal chi sqaured distribution, we have to reject the null hypothesis here, and accept that there is a relationship between people's occupation  above and the district  where they live."
   ]
  },
  {
   "cell_type": "code",
   "execution_count": null,
   "metadata": {},
   "outputs": [],
   "source": []
  },
  {
   "cell_type": "markdown",
   "metadata": {},
   "source": [
    "[1] https://docs.scipy.org/doc/scipy/reference/generated/scipy.stats.chi2_contingency.html"
   ]
  },
  {
   "cell_type": "markdown",
   "metadata": {},
   "source": [
    "[2]https://machinelearningmastery.com/chi-squared-test-for-machine-learning/"
   ]
  },
  {
   "cell_type": "markdown",
   "metadata": {},
   "source": [
    "[3]https://www.statisticshowto.com/probability-and-statistics/chi-square/"
   ]
  },
  {
   "cell_type": "markdown",
   "metadata": {},
   "source": [
    "[4]https://en.wikipedia.org/wiki/Chi-squared_test"
   ]
  },
  {
   "cell_type": "code",
   "execution_count": null,
   "metadata": {},
   "outputs": [],
   "source": []
  }
 ],
 "metadata": {
  "kernelspec": {
   "display_name": "Python 3",
   "language": "python",
   "name": "python3"
  },
  "language_info": {
   "codemirror_mode": {
    "name": "ipython",
    "version": 3
   },
   "file_extension": ".py",
   "mimetype": "text/x-python",
   "name": "python",
   "nbconvert_exporter": "python",
   "pygments_lexer": "ipython3",
   "version": "3.8.3"
  }
 },
 "nbformat": 4,
 "nbformat_minor": 4
}
